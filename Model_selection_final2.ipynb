{
 "cells": [
  {
   "cell_type": "code",
   "execution_count": 20,
   "id": "8d0d879c-3e4c-4933-a324-a04e7b1aa38a",
   "metadata": {},
   "outputs": [],
   "source": [
    "\n",
    "import pandas as pd\n",
    "import numpy as np\n",
    "from sklearn.model_selection import train_test_split\n",
    "from sklearn.compose import ColumnTransformer\n",
    "from sklearn.pipeline import Pipeline\n",
    "from sklearn.preprocessing import OneHotEncoder, StandardScaler\n",
    "from sklearn.linear_model import LinearRegression\n",
    "from sklearn.tree import DecisionTreeRegressor\n",
    "from sklearn.ensemble import RandomForestRegressor\n",
    "from sklearn.metrics import r2_score\n",
    "import pickle"
   ]
  },
  {
   "cell_type": "code",
   "execution_count": 21,
   "id": "d9eef118-fd72-4334-a948-6fafc619bcdd",
   "metadata": {},
   "outputs": [
    {
     "data": {
      "text/html": [
       "<div>\n",
       "<style scoped>\n",
       "    .dataframe tbody tr th:only-of-type {\n",
       "        vertical-align: middle;\n",
       "    }\n",
       "\n",
       "    .dataframe tbody tr th {\n",
       "        vertical-align: top;\n",
       "    }\n",
       "\n",
       "    .dataframe thead th {\n",
       "        text-align: right;\n",
       "    }\n",
       "</style>\n",
       "<table border=\"1\" class=\"dataframe\">\n",
       "  <thead>\n",
       "    <tr style=\"text-align: right;\">\n",
       "      <th></th>\n",
       "      <th>Airline</th>\n",
       "      <th>Date_of_Journey</th>\n",
       "      <th>Source</th>\n",
       "      <th>Destination</th>\n",
       "      <th>Duration</th>\n",
       "      <th>Total_Stops</th>\n",
       "      <th>Additional_Info</th>\n",
       "      <th>Price</th>\n",
       "    </tr>\n",
       "  </thead>\n",
       "  <tbody>\n",
       "    <tr>\n",
       "      <th>0</th>\n",
       "      <td>IndiGo</td>\n",
       "      <td>2019-03-24</td>\n",
       "      <td>Banglore</td>\n",
       "      <td>New Delhi</td>\n",
       "      <td>170</td>\n",
       "      <td>0</td>\n",
       "      <td>No info</td>\n",
       "      <td>3897</td>\n",
       "    </tr>\n",
       "    <tr>\n",
       "      <th>1</th>\n",
       "      <td>Air India</td>\n",
       "      <td>2019-05-01</td>\n",
       "      <td>Kolkata</td>\n",
       "      <td>Banglore</td>\n",
       "      <td>445</td>\n",
       "      <td>2</td>\n",
       "      <td>No info</td>\n",
       "      <td>7662</td>\n",
       "    </tr>\n",
       "    <tr>\n",
       "      <th>2</th>\n",
       "      <td>Jet Airways</td>\n",
       "      <td>2019-06-09</td>\n",
       "      <td>Delhi</td>\n",
       "      <td>Cochin</td>\n",
       "      <td>1140</td>\n",
       "      <td>2</td>\n",
       "      <td>No info</td>\n",
       "      <td>13882</td>\n",
       "    </tr>\n",
       "    <tr>\n",
       "      <th>3</th>\n",
       "      <td>IndiGo</td>\n",
       "      <td>2019-05-12</td>\n",
       "      <td>Kolkata</td>\n",
       "      <td>Banglore</td>\n",
       "      <td>325</td>\n",
       "      <td>1</td>\n",
       "      <td>No info</td>\n",
       "      <td>6218</td>\n",
       "    </tr>\n",
       "    <tr>\n",
       "      <th>4</th>\n",
       "      <td>IndiGo</td>\n",
       "      <td>2019-03-01</td>\n",
       "      <td>Banglore</td>\n",
       "      <td>New Delhi</td>\n",
       "      <td>285</td>\n",
       "      <td>1</td>\n",
       "      <td>No info</td>\n",
       "      <td>13302</td>\n",
       "    </tr>\n",
       "  </tbody>\n",
       "</table>\n",
       "</div>"
      ],
      "text/plain": [
       "       Airline Date_of_Journey    Source Destination  Duration  Total_Stops  \\\n",
       "0       IndiGo      2019-03-24  Banglore   New Delhi       170            0   \n",
       "1    Air India      2019-05-01   Kolkata    Banglore       445            2   \n",
       "2  Jet Airways      2019-06-09     Delhi      Cochin      1140            2   \n",
       "3       IndiGo      2019-05-12   Kolkata    Banglore       325            1   \n",
       "4       IndiGo      2019-03-01  Banglore   New Delhi       285            1   \n",
       "\n",
       "  Additional_Info  Price  \n",
       "0         No info   3897  \n",
       "1         No info   7662  \n",
       "2         No info  13882  \n",
       "3         No info   6218  \n",
       "4         No info  13302  "
      ]
     },
     "execution_count": 21,
     "metadata": {},
     "output_type": "execute_result"
    }
   ],
   "source": [
    "df = pd.read_csv(\"New_clean_data.csv\", parse_dates=[\"Date_of_Journey\"])\n",
    "df = df.loc[:, ~df.columns.str.contains(\"^Unnamed\")]\n",
    "df.head()"
   ]
  },
  {
   "cell_type": "code",
   "execution_count": 29,
   "id": "81f38971-ebb1-4e71-93ae-06568dc21d10",
   "metadata": {},
   "outputs": [
    {
     "data": {
      "text/plain": [
       "0    0\n",
       "1    0\n",
       "2    0\n",
       "3    0\n",
       "4    0\n",
       "Name: Duration, dtype: int64"
      ]
     },
     "execution_count": 29,
     "metadata": {},
     "output_type": "execute_result"
    }
   ],
   "source": [
    "def convert_duration(duration_str):\n",
    "    try:\n",
    "        parts = duration_str.strip().lower().replace(' ', '').replace('h', ':').replace('m', '').split(':')\n",
    "        if len(parts) == 2:\n",
    "            hours, minutes = int(parts[0]), int(parts[1])\n",
    "        elif 'h' in duration_str:\n",
    "            hours, minutes = int(parts[0]), 0\n",
    "        else:\n",
    "            hours, minutes = 0, int(parts[0])\n",
    "        return hours * 60 + minutes\n",
    "    except:\n",
    "        return 0  # fallback for invalid format\n",
    "\n",
    "df['Duration'] = df['Duration'].apply(convert_duration)\n",
    "df['Duration'].head()"
   ]
  },
  {
   "cell_type": "code",
   "execution_count": 30,
   "id": "bb8eddc1-e02b-4592-b3d9-aa3c4de8ec23",
   "metadata": {},
   "outputs": [],
   "source": [
    "X = df[['Airline', 'Source', 'Destination', 'Duration', 'Total_Stops', 'Date_of_Journey']]\n",
    "y = df['Price']"
   ]
  },
  {
   "cell_type": "code",
   "execution_count": 31,
   "id": "9d1988ed-1caa-4a2c-8696-eecd2bd90ec9",
   "metadata": {},
   "outputs": [],
   "source": [
    "categorical_features = ['Airline', 'Source', 'Destination', 'Total_Stops']\n",
    "numeric_features = ['Duration']\n",
    "\n",
    "preprocessor = ColumnTransformer(\n",
    "    transformers=[\n",
    "        ('cat', OneHotEncoder(handle_unknown='ignore'), categorical_features),\n",
    "        ('num', StandardScaler(), numeric_features)\n",
    "    ],\n",
    "    remainder='drop'\n",
    ")\n"
   ]
  },
  {
   "cell_type": "code",
   "execution_count": 32,
   "id": "3307e058-e550-492b-9b04-2016d3c32804",
   "metadata": {},
   "outputs": [],
   "source": [
    "X_train, X_test, y_train, y_test = train_test_split(X, y, test_size=0.25, random_state=1)"
   ]
  },
  {
   "cell_type": "code",
   "execution_count": 33,
   "id": "a8db2dcf-8338-4f2c-804f-2e30e47a2c06",
   "metadata": {},
   "outputs": [
    {
     "data": {
      "text/html": [
       "<div>\n",
       "<style scoped>\n",
       "    .dataframe tbody tr th:only-of-type {\n",
       "        vertical-align: middle;\n",
       "    }\n",
       "\n",
       "    .dataframe tbody tr th {\n",
       "        vertical-align: top;\n",
       "    }\n",
       "\n",
       "    .dataframe thead th {\n",
       "        text-align: right;\n",
       "    }\n",
       "</style>\n",
       "<table border=\"1\" class=\"dataframe\">\n",
       "  <thead>\n",
       "    <tr style=\"text-align: right;\">\n",
       "      <th></th>\n",
       "      <th>Model</th>\n",
       "      <th>R2 Score</th>\n",
       "    </tr>\n",
       "  </thead>\n",
       "  <tbody>\n",
       "    <tr>\n",
       "      <th>0</th>\n",
       "      <td>Random Forest</td>\n",
       "      <td>0.626392</td>\n",
       "    </tr>\n",
       "    <tr>\n",
       "      <th>1</th>\n",
       "      <td>Decision Tree</td>\n",
       "      <td>0.626141</td>\n",
       "    </tr>\n",
       "    <tr>\n",
       "      <th>2</th>\n",
       "      <td>Linear Regression</td>\n",
       "      <td>0.585683</td>\n",
       "    </tr>\n",
       "  </tbody>\n",
       "</table>\n",
       "</div>"
      ],
      "text/plain": [
       "               Model  R2 Score\n",
       "0      Random Forest  0.626392\n",
       "1      Decision Tree  0.626141\n",
       "2  Linear Regression  0.585683"
      ]
     },
     "execution_count": 33,
     "metadata": {},
     "output_type": "execute_result"
    }
   ],
   "source": [
    "models = {\n",
    "    'Linear Regression': LinearRegression(),\n",
    "    'Decision Tree': DecisionTreeRegressor(random_state=42),\n",
    "    'Random Forest': RandomForestRegressor(random_state=42\n",
    "                                          )\n",
    "}\n",
    "\n",
    "results = {}\n",
    "\n",
    "for name, model in models.items():\n",
    "    pipe = Pipeline([\n",
    "        ('preprocessor', preprocessor),\n",
    "        ('model', model)\n",
    "    ])\n",
    "    pipe.fit(X_train, y_train)\n",
    "    y_pred = pipe.predict(X_test)\n",
    "    score = r2_score(y_test, y_pred)\n",
    "    results[name] = (score, pipe)\n",
    "\n",
    "# Convert results dict to DataFrame\n",
    "results_df = pd.DataFrame([\n",
    "    {\"Model\": name, \"R2 Score\": score}\n",
    "    for name, (score, _) in results.items()\n",
    "])\n",
    "\n",
    "# Sort by R2 Score descending\n",
    "results_df = results_df.sort_values(by=\"R2 Score\", ascending=False).reset_index(drop=True)\n",
    "\n",
    "# Display\n",
    "results_df"
   ]
  },
  {
   "cell_type": "code",
   "execution_count": 34,
   "id": "21cba030-1417-46ab-b931-6dc8082e9a90",
   "metadata": {},
   "outputs": [
    {
     "name": "stdout",
     "output_type": "stream",
     "text": [
      "Best Model: Random Forest with R² Score: 0.6264\n"
     ]
    }
   ],
   "source": [
    "best_model_name = max(results, key=lambda name: results[name][0])\n",
    "best_score, best_pipeline = results[best_model_name]\n",
    "\n",
    "print(f\"Best Model: {best_model_name} with R² Score: {best_score:.4f}\")\n"
   ]
  },
  {
   "cell_type": "code",
   "execution_count": 40,
   "id": "b34fc04d-10dd-404e-8c1b-c7f820bcc52e",
   "metadata": {},
   "outputs": [
    {
     "name": "stdin",
     "output_type": "stream",
     "text": [
      "Enter Airline (e.g., IndiGo, Air India, etc.):  IndiGo\n",
      "Enter Date of Journey (DD/MM/YYYY):  8/8/2025\n",
      "Enter Source city (e.g., Delhi, Kolkata):  Kolkata\n",
      "Enter Destination city (e.g., Cochin, Delhi):  Delhi\n",
      "Enter Duration (e.g., '2h 50m', '50m', '2h'):  2h 50m\n",
      "Enter Total Stops (e.g., 'non-stop', '1 stop', '2 stops'):  2 stops\n"
     ]
    },
    {
     "name": "stdout",
     "output_type": "stream",
     "text": [
      "Predicted Price: ₹ 6,647.86\n"
     ]
    }
   ],
   "source": [
    "\n",
    "airline = input(\"Enter Airline (e.g., IndiGo, Air India, etc.): \")\n",
    "date_of_Journey= input(\"Enter Date of Journey (DD/MM/YYYY): \")\n",
    "source = input(\"Enter Source city (e.g., Delhi, Kolkata): \")\n",
    "destination= input(\"Enter Destination city (e.g., Cochin, Delhi): \")\n",
    "duration= input(\"Enter Duration (e.g., '2h 50m', '50m', '2h'): \")\n",
    "total_Stops= input(\"Enter Total Stops (e.g., 'non-stop', '1 stop', '2 stops'): \")\n",
    "\n",
    "from datetime import datetime\n",
    "def convert_duration(duration_str):\n",
    "    try:\n",
    "        parts = duration_str.strip().lower().replace(' ', '').replace('h', ':').replace('m', '').split(':')\n",
    "        if len(parts) == 2:\n",
    "            hours, minutes = int(parts[0]), int(parts[1])\n",
    "        elif 'h' in duration_str:\n",
    "            hours, minutes = int(parts[0]), 0\n",
    "        else:\n",
    "            hours, minutes = 0, int(parts[0])\n",
    "        return hours * 60 + minutes\n",
    "    except:\n",
    "        return 0\n",
    "\n",
    "duration_mins = convert_duration(duration)\n",
    "date_parsed = pd.to_datetime(datetime.strptime(date_of_Journey, \"%d/%m/%Y\"))\n",
    "\n",
    "# Construct DataFrame for prediction\n",
    "columns = ['Airline', 'Date_of_Journey', 'Source', 'Destination', 'Duration', 'Total_Stops']\n",
    "user_input = pd.DataFrame([[airline, date_parsed, source, destination, duration_mins, total_Stops]], columns=columns)\n",
    "\n",
    "# Predict using best pipeline\n",
    "predicted_price = best_pipeline.predict(user_input)\n",
    "print(f\"Predicted Price: ₹ {predicted_price[0]:,.2f}\")"
   ]
  },
  {
   "cell_type": "code",
   "execution_count": 41,
   "id": "d4aefe64-3d5b-4f5b-b82e-96719920e5e8",
   "metadata": {},
   "outputs": [],
   "source": [
    "\n",
    "with open(\"PlaneTicketPricePredcitionfinal123.pkl\", \"wb\") as f:\n",
    "    pickle.dump(best_pipeline, f)"
   ]
  },
  {
   "cell_type": "code",
   "execution_count": null,
   "id": "71b7fe3a-4393-497f-b49e-4630b40c5510",
   "metadata": {},
   "outputs": [],
   "source": []
  }
 ],
 "metadata": {
  "kernelspec": {
   "display_name": "Python 3 (ipykernel)",
   "language": "python",
   "name": "python3"
  },
  "language_info": {
   "codemirror_mode": {
    "name": "ipython",
    "version": 3
   },
   "file_extension": ".py",
   "mimetype": "text/x-python",
   "name": "python",
   "nbconvert_exporter": "python",
   "pygments_lexer": "ipython3",
   "version": "3.12.7"
  }
 },
 "nbformat": 4,
 "nbformat_minor": 5
}
